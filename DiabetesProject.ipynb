{
 "cells": [
  {
   "cell_type": "code",
   "execution_count": 1,
   "metadata": {
    "collapsed": true
   },
   "outputs": [],
   "source": [
    "import pandas as pd\n",
    "\n",
    "df = pd.read_csv(\"diabetes.csv\")"
   ]
  },
  {
   "cell_type": "markdown",
   "metadata": {},
   "source": [
    "Для начала удалим \"пропуски\" из данных - строки с нулевыми значениями признаков, \n",
    "не подразумевающих этого."
   ]
  },
  {
   "cell_type": "code",
   "execution_count": 2,
   "metadata": {
    "collapsed": true
   },
   "outputs": [],
   "source": [
    "indexes = df[(df.Glucose == 0) | (df.SkinThickness == 0) | \n",
    "             (df.BloodPressure == 0) | (df.BMI == 0.0)].index\n",
    "df.drop(indexes, inplace=True)"
   ]
  },
  {
   "cell_type": "code",
   "execution_count": 3,
   "metadata": {},
   "outputs": [
    {
     "name": "stdout",
     "output_type": "stream",
     "text": [
      "532\n",
      "<class 'pandas.core.frame.DataFrame'>\n",
      "Int64Index: 532 entries, 0 to 767\n",
      "Data columns (total 9 columns):\n",
      "Pregnancies                 532 non-null int64\n",
      "Glucose                     532 non-null int64\n",
      "BloodPressure               532 non-null int64\n",
      "SkinThickness               532 non-null int64\n",
      "Insulin                     532 non-null int64\n",
      "BMI                         532 non-null float64\n",
      "DiabetesPedigreeFunction    532 non-null float64\n",
      "Age                         532 non-null int64\n",
      "Outcome                     532 non-null int64\n",
      "dtypes: float64(2), int64(7)\n",
      "memory usage: 41.6 KB\n"
     ]
    }
   ],
   "source": [
    "N = len(df)\n",
    "print(N)\n",
    "df.info()"
   ]
  },
  {
   "cell_type": "code",
   "execution_count": 4,
   "metadata": {},
   "outputs": [
    {
     "data": {
      "text/html": [
       "<div>\n",
       "<style scoped>\n",
       "    .dataframe tbody tr th:only-of-type {\n",
       "        vertical-align: middle;\n",
       "    }\n",
       "\n",
       "    .dataframe tbody tr th {\n",
       "        vertical-align: top;\n",
       "    }\n",
       "\n",
       "    .dataframe thead th {\n",
       "        text-align: right;\n",
       "    }\n",
       "</style>\n",
       "<table border=\"1\" class=\"dataframe\">\n",
       "  <thead>\n",
       "    <tr style=\"text-align: right;\">\n",
       "      <th></th>\n",
       "      <th>Pregnancies</th>\n",
       "      <th>Glucose</th>\n",
       "      <th>BloodPressure</th>\n",
       "      <th>SkinThickness</th>\n",
       "      <th>Insulin</th>\n",
       "      <th>BMI</th>\n",
       "      <th>DiabetesPedigreeFunction</th>\n",
       "      <th>Age</th>\n",
       "      <th>Outcome</th>\n",
       "    </tr>\n",
       "  </thead>\n",
       "  <tbody>\n",
       "    <tr>\n",
       "      <td>95</td>\n",
       "      <td>6</td>\n",
       "      <td>144</td>\n",
       "      <td>72</td>\n",
       "      <td>27</td>\n",
       "      <td>228</td>\n",
       "      <td>33.9</td>\n",
       "      <td>0.255</td>\n",
       "      <td>40</td>\n",
       "      <td>0</td>\n",
       "    </tr>\n",
       "    <tr>\n",
       "      <td>63</td>\n",
       "      <td>2</td>\n",
       "      <td>141</td>\n",
       "      <td>58</td>\n",
       "      <td>34</td>\n",
       "      <td>128</td>\n",
       "      <td>25.4</td>\n",
       "      <td>0.699</td>\n",
       "      <td>24</td>\n",
       "      <td>0</td>\n",
       "    </tr>\n",
       "    <tr>\n",
       "      <td>328</td>\n",
       "      <td>2</td>\n",
       "      <td>102</td>\n",
       "      <td>86</td>\n",
       "      <td>36</td>\n",
       "      <td>120</td>\n",
       "      <td>45.5</td>\n",
       "      <td>0.127</td>\n",
       "      <td>23</td>\n",
       "      <td>1</td>\n",
       "    </tr>\n",
       "    <tr>\n",
       "      <td>665</td>\n",
       "      <td>1</td>\n",
       "      <td>112</td>\n",
       "      <td>80</td>\n",
       "      <td>45</td>\n",
       "      <td>132</td>\n",
       "      <td>34.8</td>\n",
       "      <td>0.217</td>\n",
       "      <td>24</td>\n",
       "      <td>0</td>\n",
       "    </tr>\n",
       "    <tr>\n",
       "      <td>393</td>\n",
       "      <td>4</td>\n",
       "      <td>116</td>\n",
       "      <td>72</td>\n",
       "      <td>12</td>\n",
       "      <td>87</td>\n",
       "      <td>22.1</td>\n",
       "      <td>0.463</td>\n",
       "      <td>37</td>\n",
       "      <td>0</td>\n",
       "    </tr>\n",
       "  </tbody>\n",
       "</table>\n",
       "</div>"
      ],
      "text/plain": [
       "     Pregnancies  Glucose  BloodPressure  SkinThickness  Insulin   BMI  \\\n",
       "95             6      144             72             27      228  33.9   \n",
       "63             2      141             58             34      128  25.4   \n",
       "328            2      102             86             36      120  45.5   \n",
       "665            1      112             80             45      132  34.8   \n",
       "393            4      116             72             12       87  22.1   \n",
       "\n",
       "     DiabetesPedigreeFunction  Age  Outcome  \n",
       "95                      0.255   40        0  \n",
       "63                      0.699   24        0  \n",
       "328                     0.127   23        1  \n",
       "665                     0.217   24        0  \n",
       "393                     0.463   37        0  "
      ]
     },
     "execution_count": 4,
     "metadata": {},
     "output_type": "execute_result"
    }
   ],
   "source": [
    "df.sample(5)"
   ]
  },
  {
   "cell_type": "markdown",
   "metadata": {},
   "source": [
    "Часть 2: попробуем кластеризовать данные с помощью алгоритма k-means."
   ]
  },
  {
   "cell_type": "code",
   "execution_count": 5,
   "metadata": {
    "collapsed": true
   },
   "outputs": [],
   "source": [
    "from sklearn.cluster import KMeans\n",
    "import numpy as np\n",
    "import matplotlib.pyplot as plt\n",
    "import seaborn as sns\n",
    "sns.set(style=\"darkgrid\")\n",
    "\n",
    "DPI = 80\n",
    "SIZE_X, SIZE_Y = 15, 5\n",
    "first_k, second_k = 5, 9"
   ]
  },
  {
   "cell_type": "markdown",
   "metadata": {},
   "source": [
    "В качестве количественных признаков признаков для данного задания выберем\n",
    "\n",
    "Glucose, BloodPressure, SkinThickness, Insulin и BMI:"
   ]
  },
  {
   "cell_type": "code",
   "execution_count": 6,
   "metadata": {},
   "outputs": [],
   "source": [
    "need_features = ['Glucose', 'BloodPressure', 'SkinThickness', 'Insulin', 'BMI']\n",
    "other_features = ['Pregnancies', 'DiabetesPedigreeFunction', 'Age', 'Outcome']\n",
    "iterations_number = 100\n",
    "\n",
    "centered_df = pd.DataFrame()\n",
    "for feature in need_features:\n",
    "    mean_f, max_f, min_f = df[feature].mean(), df[feature].max(), df[feature].min()\n",
    "    centered_df[feature] = (df[feature] - mean_f) / (max_f - min_f)"
   ]
  },
  {
   "cell_type": "code",
   "execution_count": 7,
   "metadata": {
    "scrolled": true
   },
   "outputs": [],
   "source": [
    "min_distance = 10**10\n",
    "true_clasters = None\n",
    "for i in range(iterations_number):\n",
    "    kmeans = KMeans(n_clusters=first_k, init='random', \n",
    "                    random_state=np.random.randint(1000)).fit(centered_df)\n",
    "    cluster_number = np.array(kmeans.labels_, dtype=int)\n",
    "    centered_df['cluster'] = cluster_number\n",
    "\n",
    "    new_centers = centered_df.groupby('cluster').mean().to_numpy()\n",
    "    centered_df['dist'] = centered_df.apply(lambda x: \n",
    "                        sum((x.to_numpy()[:-1] - new_centers[int(x.cluster)])**2), axis=1)\n",
    "\n",
    "    distance = sum(centered_df.groupby('cluster').sum().dist)\n",
    "    if distance < min_distance:\n",
    "        true_clusters = cluster_number \n",
    "        min_distance = distance\n",
    "    centered_df.drop(columns=['dist', 'cluster'], inplace=True, axis=1)"
   ]
  },
  {
   "cell_type": "code",
   "execution_count": 8,
   "metadata": {},
   "outputs": [
    {
     "name": "stdout",
     "output_type": "stream",
     "text": [
      "Минимальное расстояние по критерию K-Means для 5 кластеров: 28.6271\n"
     ]
    },
    {
     "data": {
      "image/png": "[encoded data removed]",
      "text/plain": [
       "<Figure size 1200x400 with 1 Axes>"
      ]
     },
     "metadata": {},
     "output_type": "display_data"
    }
   ],
   "source": [
    "print(\"Минимальное расстояние по критерию K-Means для 5 кластеров: %.4f\" % min_distance)\n",
    "\n",
    "fig = plt.figure(dpi=DPI, figsize = (SIZE_X, SIZE_Y))\n",
    "plt.title(\"Гистограмма распределения объектов по кластерам\")\n",
    "plt.grid(True)\n",
    "sns.countplot(true_clusters)\n",
    "plt.ylabel(\"Количество объектов в кластере\")\n",
    "plt.xlabel(\"Номер кластера\")\n",
    "fig.savefig(\"five_clusters.jpg\")\n",
    "plt.show()"
   ]
  },
  {
   "cell_type": "markdown",
   "metadata": {},
   "source": [
    "По гистограмме видно, что два кластера из пяти получились совсем малочисленными, \n",
    "\n",
    "поэтому скорее всего такое разделение не релевантно. "
   ]
  },
  {
   "cell_type": "code",
   "execution_count": 9,
   "metadata": {},
   "outputs": [
    {
     "data": {
      "text/html": [
       "<div>\n",
       "<style scoped>\n",
       "    .dataframe tbody tr th:only-of-type {\n",
       "        vertical-align: middle;\n",
       "    }\n",
       "\n",
       "    .dataframe tbody tr th {\n",
       "        vertical-align: top;\n",
       "    }\n",
       "\n",
       "    .dataframe thead th {\n",
       "        text-align: right;\n",
       "    }\n",
       "</style>\n",
       "<table border=\"1\" class=\"dataframe\">\n",
       "  <thead>\n",
       "    <tr style=\"text-align: right;\">\n",
       "      <th></th>\n",
       "      <th>Glucose</th>\n",
       "      <th>BloodPressure</th>\n",
       "      <th>SkinThickness</th>\n",
       "      <th>Insulin</th>\n",
       "      <th>BMI</th>\n",
       "    </tr>\n",
       "    <tr>\n",
       "      <th>cluster</th>\n",
       "      <th></th>\n",
       "      <th></th>\n",
       "      <th></th>\n",
       "      <th></th>\n",
       "      <th></th>\n",
       "    </tr>\n",
       "  </thead>\n",
       "  <tbody>\n",
       "    <tr>\n",
       "      <td>0</td>\n",
       "      <td>10.894352</td>\n",
       "      <td>4.392538</td>\n",
       "      <td>-14.095397</td>\n",
       "      <td>-2.321755</td>\n",
       "      <td>-9.573806</td>\n",
       "    </tr>\n",
       "    <tr>\n",
       "      <td>1</td>\n",
       "      <td>-13.265890</td>\n",
       "      <td>2.547049</td>\n",
       "      <td>25.009786</td>\n",
       "      <td>-21.960017</td>\n",
       "      <td>14.559403</td>\n",
       "    </tr>\n",
       "    <tr>\n",
       "      <td>2</td>\n",
       "      <td>-21.322296</td>\n",
       "      <td>-11.159013</td>\n",
       "      <td>-28.850242</td>\n",
       "      <td>-50.109524</td>\n",
       "      <td>-18.146774</td>\n",
       "    </tr>\n",
       "    <tr>\n",
       "      <td>3</td>\n",
       "      <td>40.288822</td>\n",
       "      <td>11.782171</td>\n",
       "      <td>23.743067</td>\n",
       "      <td>12.957938</td>\n",
       "      <td>18.415795</td>\n",
       "    </tr>\n",
       "    <tr>\n",
       "      <td>4</td>\n",
       "      <td>31.831328</td>\n",
       "      <td>-1.639459</td>\n",
       "      <td>11.368760</td>\n",
       "      <td>288.298951</td>\n",
       "      <td>7.546305</td>\n",
       "    </tr>\n",
       "  </tbody>\n",
       "</table>\n",
       "</div>"
      ],
      "text/plain": [
       "           Glucose  BloodPressure  SkinThickness     Insulin        BMI\n",
       "cluster                                                                \n",
       "0        10.894352       4.392538     -14.095397   -2.321755  -9.573806\n",
       "1       -13.265890       2.547049      25.009786  -21.960017  14.559403\n",
       "2       -21.322296     -11.159013     -28.850242  -50.109524 -18.146774\n",
       "3        40.288822      11.782171      23.743067   12.957938  18.415795\n",
       "4        31.831328      -1.639459      11.368760  288.298951   7.546305"
      ]
     },
     "execution_count": 9,
     "metadata": {},
     "output_type": "execute_result"
    }
   ],
   "source": [
    "# интерпретация данных кластеров:\n",
    "\n",
    "cur_df = df.copy()[need_features]\n",
    "great_means = cur_df.mean().to_numpy()\n",
    "cur_df['cluster'] = true_clusters\n",
    "\n",
    "cluster_diff = 100*(cur_df.groupby('cluster').mean() - great_means) / great_means\n",
    "cur_df.drop('cluster', inplace=True, axis=1)\n",
    "cluster_diff"
   ]
  },
  {
   "cell_type": "markdown",
   "metadata": {},
   "source": [
    "В нулевом и первом кластерах нет примечательных признаков. Во втором кластере на 50% снижено значение инсулина по сравнению со средним значением, тогда как в четвертый кластер характеризуется увеличением уровня инсулина на 288%! В третьем кластере заметно увеливение уровня глюкозы.\n",
    "Можно заметить, что кровяное давление и ИМТ ни в одном из кластеров не является сколько-то показательным."
   ]
  },
  {
   "cell_type": "code",
   "execution_count": 10,
   "metadata": {
    "collapsed": true
   },
   "outputs": [],
   "source": [
    "min_distance = 10**10\n",
    "true_clasters = None\n",
    "for i in range(iterations_number):\n",
    "    kmeans = KMeans(n_clusters=second_k, init='random', \n",
    "                    random_state=np.random.randint(1000)).fit(centered_df)\n",
    "    cluster_number = np.array(kmeans.labels_, dtype=int)\n",
    "    centered_df['cluster'] = cluster_number\n",
    "\n",
    "    new_centers = centered_df.groupby('cluster').mean().to_numpy()\n",
    "    centered_df['dist'] = centered_df.apply(lambda x: \n",
    "                        sum((x.to_numpy()[:-1] - new_centers[int(x.cluster)])**2), axis=1)\n",
    "\n",
    "    distance = sum(centered_df.groupby('cluster').sum().dist)\n",
    "    if distance < min_distance:\n",
    "        true_clusters = cluster_number \n",
    "        min_distance = distance\n",
    "    centered_df.drop(columns=['dist', 'cluster'], inplace=True, axis=1)"
   ]
  },
  {
   "cell_type": "code",
   "execution_count": 11,
   "metadata": {},
   "outputs": [
    {
     "name": "stdout",
     "output_type": "stream",
     "text": [
      "Минимальное расстояние по критерию K-Means для 9 кластеров: 21.7409\n"
     ]
    },
    {
     "data": {
      "image/png": "[encoded data removed]",
      "text/plain": [
       "<Figure size 1200x400 with 1 Axes>"
      ]
     },
     "metadata": {},
     "output_type": "display_data"
    }
   ],
   "source": [
    "print(\"Минимальное расстояние по критерию K-Means для 9 кластеров: %.4f\" % min_distance)\n",
    "\n",
    "fig = plt.figure(dpi=DPI, figsize = (SIZE_X, SIZE_Y))\n",
    "plt.title(\"Гистограмма распределения объектов по кластерам\")\n",
    "plt.grid(True)\n",
    "sns.countplot(true_clusters)\n",
    "plt.ylabel(\"Количество объектов в кластере\")\n",
    "plt.xlabel(\"Номер кластера\")\n",
    "fig.savefig(\"nine_clusters.jpg\")\n",
    "plt.show()"
   ]
  },
  {
   "cell_type": "code",
   "execution_count": 12,
   "metadata": {},
   "outputs": [
    {
     "data": {
      "text/html": [
       "<div>\n",
       "<style scoped>\n",
       "    .dataframe tbody tr th:only-of-type {\n",
       "        vertical-align: middle;\n",
       "    }\n",
       "\n",
       "    .dataframe tbody tr th {\n",
       "        vertical-align: top;\n",
       "    }\n",
       "\n",
       "    .dataframe thead th {\n",
       "        text-align: right;\n",
       "    }\n",
       "</style>\n",
       "<table border=\"1\" class=\"dataframe\">\n",
       "  <thead>\n",
       "    <tr style=\"text-align: right;\">\n",
       "      <th></th>\n",
       "      <th>Glucose</th>\n",
       "      <th>BloodPressure</th>\n",
       "      <th>SkinThickness</th>\n",
       "      <th>Insulin</th>\n",
       "      <th>BMI</th>\n",
       "    </tr>\n",
       "    <tr>\n",
       "      <th>cluster</th>\n",
       "      <th></th>\n",
       "      <th></th>\n",
       "      <th></th>\n",
       "      <th></th>\n",
       "      <th></th>\n",
       "    </tr>\n",
       "  </thead>\n",
       "  <tbody>\n",
       "    <tr>\n",
       "      <td>0</td>\n",
       "      <td>10.360363</td>\n",
       "      <td>13.600508</td>\n",
       "      <td>0.324142</td>\n",
       "      <td>-24.019304</td>\n",
       "      <td>-3.235222</td>\n",
       "    </tr>\n",
       "    <tr>\n",
       "      <td>1</td>\n",
       "      <td>-19.843156</td>\n",
       "      <td>-20.849288</td>\n",
       "      <td>-34.416175</td>\n",
       "      <td>-34.317230</td>\n",
       "      <td>-21.916180</td>\n",
       "    </tr>\n",
       "    <tr>\n",
       "      <td>2</td>\n",
       "      <td>18.786886</td>\n",
       "      <td>-6.750611</td>\n",
       "      <td>-14.821256</td>\n",
       "      <td>81.912250</td>\n",
       "      <td>-10.899495</td>\n",
       "    </tr>\n",
       "    <tr>\n",
       "      <td>3</td>\n",
       "      <td>50.145268</td>\n",
       "      <td>6.220278</td>\n",
       "      <td>11.966446</td>\n",
       "      <td>9.009680</td>\n",
       "      <td>7.991368</td>\n",
       "    </tr>\n",
       "    <tr>\n",
       "      <td>4</td>\n",
       "      <td>19.116399</td>\n",
       "      <td>18.372283</td>\n",
       "      <td>43.188406</td>\n",
       "      <td>56.350737</td>\n",
       "      <td>34.878688</td>\n",
       "    </tr>\n",
       "    <tr>\n",
       "      <td>5</td>\n",
       "      <td>37.938746</td>\n",
       "      <td>0.985779</td>\n",
       "      <td>21.739130</td>\n",
       "      <td>370.114755</td>\n",
       "      <td>11.887345</td>\n",
       "    </tr>\n",
       "    <tr>\n",
       "      <td>6</td>\n",
       "      <td>-8.482343</td>\n",
       "      <td>-13.274128</td>\n",
       "      <td>16.461263</td>\n",
       "      <td>-5.872411</td>\n",
       "      <td>11.030116</td>\n",
       "    </tr>\n",
       "    <tr>\n",
       "      <td>7</td>\n",
       "      <td>-19.533315</td>\n",
       "      <td>1.623687</td>\n",
       "      <td>-26.972553</td>\n",
       "      <td>-66.518456</td>\n",
       "      <td>-16.476368</td>\n",
       "    </tr>\n",
       "    <tr>\n",
       "      <td>8</td>\n",
       "      <td>-22.027758</td>\n",
       "      <td>10.231751</td>\n",
       "      <td>24.488915</td>\n",
       "      <td>-53.860871</td>\n",
       "      <td>14.423802</td>\n",
       "    </tr>\n",
       "  </tbody>\n",
       "</table>\n",
       "</div>"
      ],
      "text/plain": [
       "           Glucose  BloodPressure  SkinThickness     Insulin        BMI\n",
       "cluster                                                                \n",
       "0        10.360363      13.600508       0.324142  -24.019304  -3.235222\n",
       "1       -19.843156     -20.849288     -34.416175  -34.317230 -21.916180\n",
       "2        18.786886      -6.750611     -14.821256   81.912250 -10.899495\n",
       "3        50.145268       6.220278      11.966446    9.009680   7.991368\n",
       "4        19.116399      18.372283      43.188406   56.350737  34.878688\n",
       "5        37.938746       0.985779      21.739130  370.114755  11.887345\n",
       "6        -8.482343     -13.274128      16.461263   -5.872411  11.030116\n",
       "7       -19.533315       1.623687     -26.972553  -66.518456 -16.476368\n",
       "8       -22.027758      10.231751      24.488915  -53.860871  14.423802"
      ]
     },
     "execution_count": 12,
     "metadata": {},
     "output_type": "execute_result"
    }
   ],
   "source": [
    "# интерпретация данных кластеров:\n",
    "\n",
    "cur_df = df.copy()[need_features]\n",
    "great_means = cur_df.mean().to_numpy()\n",
    "cur_df['cluster'] = true_clusters\n",
    "\n",
    "cluster_diff = 100*(cur_df.groupby('cluster').mean() - great_means) / great_means\n",
    "cur_df.drop('cluster', inplace=True, axis=1)\n",
    "cluster_diff"
   ]
  },
  {
   "cell_type": "markdown",
   "metadata": {},
   "source": [
    "Интересны значения, по модулю превосходящие 30: Glucose (3-ий кластер), SkinThickness(1-ый и 4-ый кластеры), Insulin(все, кроме 0-го, 3-го и 6-го кластеров), BMI (4-ый кластер)"
   ]
  },
  {
   "cell_type": "markdown",
   "metadata": {},
   "source": [
    "При различных случайных наборах центров получаются раличные кластеры, однако всегда хотя бы один кластер практически не содержит элементов. \n",
    "Можно попробовать зафиксировать стартовые центры, но не очень понятно, почему полученный результат более релевантным."
   ]
  },
  {
   "cell_type": "markdown",
   "metadata": {},
   "source": [
    "Часть 3: бутстрэп. Возьмем распределение на 9 кластеров."
   ]
  },
  {
   "cell_type": "code",
   "execution_count": 13,
   "metadata": {},
   "outputs": [
    {
     "data": {
      "text/html": [
       "<div>\n",
       "<style scoped>\n",
       "    .dataframe tbody tr th:only-of-type {\n",
       "        vertical-align: middle;\n",
       "    }\n",
       "\n",
       "    .dataframe tbody tr th {\n",
       "        vertical-align: top;\n",
       "    }\n",
       "\n",
       "    .dataframe thead th {\n",
       "        text-align: right;\n",
       "    }\n",
       "</style>\n",
       "<table border=\"1\" class=\"dataframe\">\n",
       "  <thead>\n",
       "    <tr style=\"text-align: right;\">\n",
       "      <th></th>\n",
       "      <th>Glucose</th>\n",
       "      <th>BloodPressure</th>\n",
       "      <th>SkinThickness</th>\n",
       "      <th>Insulin</th>\n",
       "      <th>BMI</th>\n",
       "    </tr>\n",
       "    <tr>\n",
       "      <th>cluster</th>\n",
       "      <th></th>\n",
       "      <th></th>\n",
       "      <th></th>\n",
       "      <th></th>\n",
       "      <th></th>\n",
       "    </tr>\n",
       "  </thead>\n",
       "  <tbody>\n",
       "    <tr>\n",
       "      <td>0</td>\n",
       "      <td>0.087686</td>\n",
       "      <td>0.113083</td>\n",
       "      <td>0.001028</td>\n",
       "      <td>-0.032647</td>\n",
       "      <td>-0.021760</td>\n",
       "    </tr>\n",
       "    <tr>\n",
       "      <td>1</td>\n",
       "      <td>-0.167945</td>\n",
       "      <td>-0.173354</td>\n",
       "      <td>-0.109168</td>\n",
       "      <td>-0.046644</td>\n",
       "      <td>-0.147409</td>\n",
       "    </tr>\n",
       "    <tr>\n",
       "      <td>2</td>\n",
       "      <td>0.159005</td>\n",
       "      <td>-0.056129</td>\n",
       "      <td>-0.047013</td>\n",
       "      <td>0.111336</td>\n",
       "      <td>-0.073310</td>\n",
       "    </tr>\n",
       "    <tr>\n",
       "      <td>3</td>\n",
       "      <td>0.424412</td>\n",
       "      <td>0.051719</td>\n",
       "      <td>0.037957</td>\n",
       "      <td>0.012246</td>\n",
       "      <td>0.053750</td>\n",
       "    </tr>\n",
       "    <tr>\n",
       "      <td>4</td>\n",
       "      <td>0.161794</td>\n",
       "      <td>0.152758</td>\n",
       "      <td>0.136993</td>\n",
       "      <td>0.076592</td>\n",
       "      <td>0.234595</td>\n",
       "    </tr>\n",
       "    <tr>\n",
       "      <td>5</td>\n",
       "      <td>0.321100</td>\n",
       "      <td>0.008196</td>\n",
       "      <td>0.068956</td>\n",
       "      <td>0.503062</td>\n",
       "      <td>0.079954</td>\n",
       "    </tr>\n",
       "    <tr>\n",
       "      <td>6</td>\n",
       "      <td>-0.071792</td>\n",
       "      <td>-0.110369</td>\n",
       "      <td>0.052215</td>\n",
       "      <td>-0.007982</td>\n",
       "      <td>0.074189</td>\n",
       "    </tr>\n",
       "    <tr>\n",
       "      <td>7</td>\n",
       "      <td>-0.165323</td>\n",
       "      <td>0.013500</td>\n",
       "      <td>-0.085557</td>\n",
       "      <td>-0.090412</td>\n",
       "      <td>-0.110820</td>\n",
       "    </tr>\n",
       "    <tr>\n",
       "      <td>8</td>\n",
       "      <td>-0.186435</td>\n",
       "      <td>0.085073</td>\n",
       "      <td>0.077679</td>\n",
       "      <td>-0.073208</td>\n",
       "      <td>0.097015</td>\n",
       "    </tr>\n",
       "  </tbody>\n",
       "</table>\n",
       "</div>"
      ],
      "text/plain": [
       "          Glucose  BloodPressure  SkinThickness   Insulin       BMI\n",
       "cluster                                                            \n",
       "0        0.087686       0.113083       0.001028 -0.032647 -0.021760\n",
       "1       -0.167945      -0.173354      -0.109168 -0.046644 -0.147409\n",
       "2        0.159005      -0.056129      -0.047013  0.111336 -0.073310\n",
       "3        0.424412       0.051719       0.037957  0.012246  0.053750\n",
       "4        0.161794       0.152758       0.136993  0.076592  0.234595\n",
       "5        0.321100       0.008196       0.068956  0.503062  0.079954\n",
       "6       -0.071792      -0.110369       0.052215 -0.007982  0.074189\n",
       "7       -0.165323       0.013500      -0.085557 -0.090412 -0.110820\n",
       "8       -0.186435       0.085073       0.077679 -0.073208  0.097015"
      ]
     },
     "execution_count": 13,
     "metadata": {},
     "output_type": "execute_result"
    }
   ],
   "source": [
    "centered_df['cluster'] = true_clusters\n",
    "grouped_cluster = centered_df.groupby('cluster').mean()\n",
    "grouped_cluster"
   ]
  },
  {
   "cell_type": "code",
   "execution_count": 16,
   "metadata": {},
   "outputs": [
    {
     "data": {
      "text/html": [
       "<div>\n",
       "<style scoped>\n",
       "    .dataframe tbody tr th:only-of-type {\n",
       "        vertical-align: middle;\n",
       "    }\n",
       "\n",
       "    .dataframe tbody tr th {\n",
       "        vertical-align: top;\n",
       "    }\n",
       "\n",
       "    .dataframe thead th {\n",
       "        text-align: right;\n",
       "    }\n",
       "</style>\n",
       "<table border=\"1\" class=\"dataframe\">\n",
       "  <thead>\n",
       "    <tr style=\"text-align: right;\">\n",
       "      <th></th>\n",
       "      <th>Glucose</th>\n",
       "      <th>BloodPressure</th>\n",
       "      <th>SkinThickness</th>\n",
       "      <th>Insulin</th>\n",
       "      <th>BMI</th>\n",
       "    </tr>\n",
       "    <tr>\n",
       "      <th>cluster</th>\n",
       "      <th></th>\n",
       "      <th></th>\n",
       "      <th></th>\n",
       "      <th></th>\n",
       "      <th></th>\n",
       "    </tr>\n",
       "  </thead>\n",
       "  <tbody>\n",
       "    <tr>\n",
       "      <td>0</td>\n",
       "      <td>65</td>\n",
       "      <td>65</td>\n",
       "      <td>65</td>\n",
       "      <td>65</td>\n",
       "      <td>65</td>\n",
       "    </tr>\n",
       "    <tr>\n",
       "      <td>1</td>\n",
       "      <td>72</td>\n",
       "      <td>72</td>\n",
       "      <td>72</td>\n",
       "      <td>72</td>\n",
       "      <td>72</td>\n",
       "    </tr>\n",
       "    <tr>\n",
       "      <td>2</td>\n",
       "      <td>56</td>\n",
       "      <td>56</td>\n",
       "      <td>56</td>\n",
       "      <td>56</td>\n",
       "      <td>56</td>\n",
       "    </tr>\n",
       "    <tr>\n",
       "      <td>3</td>\n",
       "      <td>43</td>\n",
       "      <td>43</td>\n",
       "      <td>43</td>\n",
       "      <td>43</td>\n",
       "      <td>43</td>\n",
       "    </tr>\n",
       "    <tr>\n",
       "      <td>4</td>\n",
       "      <td>42</td>\n",
       "      <td>42</td>\n",
       "      <td>42</td>\n",
       "      <td>42</td>\n",
       "      <td>42</td>\n",
       "    </tr>\n",
       "    <tr>\n",
       "      <td>5</td>\n",
       "      <td>19</td>\n",
       "      <td>19</td>\n",
       "      <td>19</td>\n",
       "      <td>19</td>\n",
       "      <td>19</td>\n",
       "    </tr>\n",
       "    <tr>\n",
       "      <td>6</td>\n",
       "      <td>72</td>\n",
       "      <td>72</td>\n",
       "      <td>72</td>\n",
       "      <td>72</td>\n",
       "      <td>72</td>\n",
       "    </tr>\n",
       "    <tr>\n",
       "      <td>7</td>\n",
       "      <td>90</td>\n",
       "      <td>90</td>\n",
       "      <td>90</td>\n",
       "      <td>90</td>\n",
       "      <td>90</td>\n",
       "    </tr>\n",
       "    <tr>\n",
       "      <td>8</td>\n",
       "      <td>73</td>\n",
       "      <td>73</td>\n",
       "      <td>73</td>\n",
       "      <td>73</td>\n",
       "      <td>73</td>\n",
       "    </tr>\n",
       "  </tbody>\n",
       "</table>\n",
       "</div>"
      ],
      "text/plain": [
       "         Glucose  BloodPressure  SkinThickness  Insulin  BMI\n",
       "cluster                                                     \n",
       "0             65             65             65       65   65\n",
       "1             72             72             72       72   72\n",
       "2             56             56             56       56   56\n",
       "3             43             43             43       43   43\n",
       "4             42             42             42       42   42\n",
       "5             19             19             19       19   19\n",
       "6             72             72             72       72   72\n",
       "7             90             90             90       90   90\n",
       "8             73             73             73       73   73"
      ]
     },
     "execution_count": 16,
     "metadata": {},
     "output_type": "execute_result"
    }
   ],
   "source": [
    "centered_df.groupby('cluster').count()"
   ]
  },
  {
   "cell_type": "code",
   "execution_count": 17,
   "metadata": {},
   "outputs": [
    {
     "name": "stdout",
     "output_type": "stream",
     "text": [
      "BMI mean = 0.000027, BMI std = 0.006141\n",
      "pitvoting: left = -0.012008, right = 0.012063\n",
      "no pivot: left = -0.011887, right = 0.012328\n"
     ]
    }
   ],
   "source": [
    "T = 10000\n",
    "random_indexes = np.random.randint(low=N, size=(T, N))\n",
    "\n",
    "bmi_trials = centered_df.BMI.to_numpy()[random_indexes]\n",
    "trials_mean = bmi_trials.mean(axis=1)\n",
    "bmi_mean, bmi_std = np.mean(trials_mean), np.std(trials_mean)\n",
    "print(\"BMI mean = %.6f, BMI std = %.6f\" % (bmi_mean, bmi_std))\n",
    "print(\"pitvoting: left = %.6f, right = %.6f\" % \n",
    "      (bmi_mean - 1.96 * bmi_std, bmi_mean + 1.96 * bmi_std))\n",
    "\n",
    "left_q, right_q = np.percentile(trials_mean, 2.5), np.percentile(trials_mean, 97.5)\n",
    "print(\"no pivot: left = %.6f, right = %.6f\" % (left_q, right_q))"
   ]
  },
  {
   "cell_type": "code",
   "execution_count": 18,
   "metadata": {},
   "outputs": [
    {
     "name": "stdout",
     "output_type": "stream",
     "text": [
      "diff mean = -0.008839, diff std = 0.031229\n",
      "pitvoting: left = -0.070047, right = 0.052369\n",
      "no pivot: left = -0.064592, right = 0.050242\n"
     ]
    }
   ],
   "source": [
    "first_cluster, second_cluster = 0, 3\n",
    "n_first = len(np.where(true_clusters == first_cluster)[0])\n",
    "n_second = len(np.where(true_clusters == second_cluster)[0])\n",
    "\n",
    "T_features = 300\n",
    "first_indexes = np.random.randint(low=n_first, size=(T_features, n_first))\n",
    "second_indexes = np.random.randint(low=n_second, size=(T_features, n_second))\n",
    "\n",
    "bmi_first = centered_df.BMI.to_numpy()[first_indexes]\n",
    "bmi_second = centered_df.BMI.to_numpy()[second_indexes]\n",
    "\n",
    "first_mean, second_mean = bmi_first.mean(axis=1), bmi_second.mean(axis=1)\n",
    "trials_mean = first_mean - second_mean\n",
    "\n",
    "bmi_mean, bmi_std = np.mean(trials_mean), np.std(trials_mean)\n",
    "print(\"diff mean = %.6f, diff std = %.6f\" % (bmi_mean, bmi_std))\n",
    "print(\"pitvoting: left = %.6f, right = %.6f\" % \n",
    "      (bmi_mean - 1.96 * bmi_std, bmi_mean + 1.96 * bmi_std))\n",
    "\n",
    "left_q, right_q = np.percentile(trials_mean, 2.5), np.percentile(trials_mean, 97.5)\n",
    "print(\"no pivot: left = %.6f, right = %.6f\" % (left_q, right_q))"
   ]
  },
  {
   "cell_type": "code",
   "execution_count": 19,
   "metadata": {},
   "outputs": [
    {
     "name": "stdout",
     "output_type": "stream",
     "text": [
      "diff mean = 0.021784, diff std = 0.010476\n",
      "pitvoting: left = 0.001251, right = 0.042317\n",
      "no pivot: left = 0.001255, right = 0.042293\n"
     ]
    }
   ],
   "source": [
    "T = 10000 # N столбцов и T строчек\n",
    "random_indexes = np.random.randint(low=N, size=(T, N))\n",
    "bmi_trials = centered_df.BMI.to_numpy()[random_indexes]\n",
    "bmi_mean = bmi_trials.mean(axis=1)\n",
    "\n",
    "need_cluster = 0\n",
    "cluster_mean = []\n",
    "\n",
    "for row in range(T):\n",
    "    cur_indexes = np.where(true_clusters[random_indexes[row]] == need_cluster)[0]\n",
    "    cur_trial = centered_df.BMI.to_numpy()[random_indexes[row][cur_indexes]]\n",
    "    cluster_mean.append(cur_trial.mean())\n",
    "\n",
    "trials_mean = bmi_mean - np.array(cluster_mean)\n",
    "bmi_mean, bmi_std = np.mean(trials_mean), np.std(trials_mean)\n",
    "print(\"diff mean = %.6f, diff std = %.6f\" % (bmi_mean, bmi_std))\n",
    "print(\"pitvoting: left = %.6f, right = %.6f\" % \n",
    "      (bmi_mean - 1.96 * bmi_std, bmi_mean + 1.96 * bmi_std))\n",
    "\n",
    "left_q, right_q = np.percentile(trials_mean, 2.5), np.percentile(trials_mean, 97.5)\n",
    "print(\"no pivot: left = %.6f, right = %.6f\" % (left_q, right_q))"
   ]
  },
  {
   "cell_type": "markdown",
   "metadata": {},
   "source": [
    "Часть 4: выделение номинальных признаков, выделение целевого признака. Формирование таблиц сопряженности и коэффициентов Кетле."
   ]
  },
  {
   "cell_type": "markdown",
   "metadata": {},
   "source": [
    "Целевым признаком будет наличие диабета (колонка `Outcome`), двумя другими номинальными признаками будут степень соответствия массы и роста человека и уровень сахара в крови через 2 часа после углеводной нагрузки."
   ]
  },
  {
   "cell_type": "code",
   "execution_count": 20,
   "metadata": {
    "collapsed": true
   },
   "outputs": [],
   "source": [
    "def BMIgroup(BMI):\n",
    "    if BMI < 18.5:\n",
    "        return 1 # \"underweight\"\n",
    "    if BMI < 25:\n",
    "        return 2 # \"healty\"\n",
    "    if BMI < 30:\n",
    "        return 3 # \"overweight\"\n",
    "    return 4 # \"obesity\"\n",
    "\n",
    "def GlucoseGroup(glucose):\n",
    "    if glucose <= 78:\n",
    "        return 1 # normal\n",
    "    if glucose <= 111:\n",
    "        return 2 # high\n",
    "    return 3 # very high\n",
    "\n",
    "df['BMI_group'] = df.apply(lambda x: BMIgroup(x.BMI), axis=1)\n",
    "df['glucose_group'] = df.apply(lambda x: GlucoseGroup(x.Glucose), axis=1)"
   ]
  },
  {
   "cell_type": "code",
   "execution_count": 21,
   "metadata": {},
   "outputs": [
    {
     "data": {
      "text/html": [
       "<div>\n",
       "<style scoped>\n",
       "    .dataframe tbody tr th:only-of-type {\n",
       "        vertical-align: middle;\n",
       "    }\n",
       "\n",
       "    .dataframe tbody tr th {\n",
       "        vertical-align: top;\n",
       "    }\n",
       "\n",
       "    .dataframe thead th {\n",
       "        text-align: right;\n",
       "    }\n",
       "</style>\n",
       "<table border=\"1\" class=\"dataframe\">\n",
       "  <thead>\n",
       "    <tr style=\"text-align: right;\">\n",
       "      <th></th>\n",
       "      <th>Pregnancies</th>\n",
       "      <th>Glucose</th>\n",
       "      <th>BloodPressure</th>\n",
       "      <th>SkinThickness</th>\n",
       "      <th>Insulin</th>\n",
       "      <th>BMI</th>\n",
       "      <th>DiabetesPedigreeFunction</th>\n",
       "      <th>Age</th>\n",
       "      <th>Outcome</th>\n",
       "      <th>BMI_group</th>\n",
       "      <th>glucose_group</th>\n",
       "    </tr>\n",
       "  </thead>\n",
       "  <tbody>\n",
       "    <tr>\n",
       "      <td>56</td>\n",
       "      <td>7</td>\n",
       "      <td>187</td>\n",
       "      <td>68</td>\n",
       "      <td>39</td>\n",
       "      <td>304</td>\n",
       "      <td>37.7</td>\n",
       "      <td>0.254</td>\n",
       "      <td>41</td>\n",
       "      <td>1</td>\n",
       "      <td>4</td>\n",
       "      <td>3</td>\n",
       "    </tr>\n",
       "    <tr>\n",
       "      <td>638</td>\n",
       "      <td>7</td>\n",
       "      <td>97</td>\n",
       "      <td>76</td>\n",
       "      <td>32</td>\n",
       "      <td>91</td>\n",
       "      <td>40.9</td>\n",
       "      <td>0.871</td>\n",
       "      <td>32</td>\n",
       "      <td>1</td>\n",
       "      <td>4</td>\n",
       "      <td>2</td>\n",
       "    </tr>\n",
       "    <tr>\n",
       "      <td>721</td>\n",
       "      <td>1</td>\n",
       "      <td>114</td>\n",
       "      <td>66</td>\n",
       "      <td>36</td>\n",
       "      <td>200</td>\n",
       "      <td>38.1</td>\n",
       "      <td>0.289</td>\n",
       "      <td>21</td>\n",
       "      <td>0</td>\n",
       "      <td>4</td>\n",
       "      <td>3</td>\n",
       "    </tr>\n",
       "    <tr>\n",
       "      <td>458</td>\n",
       "      <td>10</td>\n",
       "      <td>148</td>\n",
       "      <td>84</td>\n",
       "      <td>48</td>\n",
       "      <td>237</td>\n",
       "      <td>37.6</td>\n",
       "      <td>1.001</td>\n",
       "      <td>51</td>\n",
       "      <td>1</td>\n",
       "      <td>4</td>\n",
       "      <td>3</td>\n",
       "    </tr>\n",
       "    <tr>\n",
       "      <td>315</td>\n",
       "      <td>2</td>\n",
       "      <td>112</td>\n",
       "      <td>68</td>\n",
       "      <td>22</td>\n",
       "      <td>94</td>\n",
       "      <td>34.1</td>\n",
       "      <td>0.315</td>\n",
       "      <td>26</td>\n",
       "      <td>0</td>\n",
       "      <td>4</td>\n",
       "      <td>3</td>\n",
       "    </tr>\n",
       "  </tbody>\n",
       "</table>\n",
       "</div>"
      ],
      "text/plain": [
       "     Pregnancies  Glucose  BloodPressure  SkinThickness  Insulin   BMI  \\\n",
       "56             7      187             68             39      304  37.7   \n",
       "638            7       97             76             32       91  40.9   \n",
       "721            1      114             66             36      200  38.1   \n",
       "458           10      148             84             48      237  37.6   \n",
       "315            2      112             68             22       94  34.1   \n",
       "\n",
       "     DiabetesPedigreeFunction  Age  Outcome  BMI_group  glucose_group  \n",
       "56                      0.254   41        1          4              3  \n",
       "638                     0.871   32        1          4              2  \n",
       "721                     0.289   21        0          4              3  \n",
       "458                     1.001   51        1          4              3  \n",
       "315                     0.315   26        0          4              3  "
      ]
     },
     "execution_count": 21,
     "metadata": {},
     "output_type": "execute_result"
    }
   ],
   "source": [
    "df.sample(5)"
   ]
  },
  {
   "cell_type": "code",
   "execution_count": 22,
   "metadata": {
    "collapsed": true
   },
   "outputs": [],
   "source": [
    "grouped_by_bmi = df.groupby(by=['BMI_group'], as_index=False).sum()\n",
    "grouped_by_glucose = df.groupby(by=['glucose_group'], as_index=False).sum()"
   ]
  },
  {
   "cell_type": "code",
   "execution_count": 23,
   "metadata": {
    "scrolled": false
   },
   "outputs": [
    {
     "data": {
      "image/png": "[encoded data removed]",
      "text/plain": [
       "<Figure size 560x400 with 1 Axes>"
      ]
     },
     "metadata": {},
     "output_type": "display_data"
    }
   ],
   "source": [
    "fig = plt.figure(dpi=DPI, figsize=(7, 5))\n",
    "data = np.array(grouped_by_glucose.Outcome / \n",
    "                (df.groupby(by=\"glucose_group\", as_index=False).count().Outcome))\n",
    "\n",
    "plt.title(\"Доля заболеваний в зависимости от уровня глюкозы\")\n",
    "sns.barplot(x=np.arange(1, 4), y=data)\n",
    "xlabels = [\"Normal\", \"High\", \"Very high\"]\n",
    "plt.ylabel(\"\")\n",
    "plt.xlabel(\"\")\n",
    "plt.xticks(np.arange(3), xlabels)\n",
    "plt.show()\n",
    "fig.savefig(\"density_glucose.jpg\")"
   ]
  },
  {
   "cell_type": "code",
   "execution_count": 24,
   "metadata": {},
   "outputs": [
    {
     "data": {
      "text/html": [
       "<div>\n",
       "<style scoped>\n",
       "    .dataframe tbody tr th:only-of-type {\n",
       "        vertical-align: middle;\n",
       "    }\n",
       "\n",
       "    .dataframe tbody tr th {\n",
       "        vertical-align: top;\n",
       "    }\n",
       "\n",
       "    .dataframe thead th {\n",
       "        text-align: right;\n",
       "    }\n",
       "</style>\n",
       "<table border=\"1\" class=\"dataframe\">\n",
       "  <thead>\n",
       "    <tr style=\"text-align: right;\">\n",
       "      <th></th>\n",
       "      <th>Normal</th>\n",
       "      <th>High</th>\n",
       "      <th>Very high</th>\n",
       "      <th>Total</th>\n",
       "    </tr>\n",
       "  </thead>\n",
       "  <tbody>\n",
       "    <tr>\n",
       "      <td>Healthy</td>\n",
       "      <td>19</td>\n",
       "      <td>190</td>\n",
       "      <td>146</td>\n",
       "      <td>355</td>\n",
       "    </tr>\n",
       "    <tr>\n",
       "      <td>Diabetes</td>\n",
       "      <td>1</td>\n",
       "      <td>34</td>\n",
       "      <td>142</td>\n",
       "      <td>177</td>\n",
       "    </tr>\n",
       "    <tr>\n",
       "      <td>Total</td>\n",
       "      <td>20</td>\n",
       "      <td>224</td>\n",
       "      <td>288</td>\n",
       "      <td>532</td>\n",
       "    </tr>\n",
       "  </tbody>\n",
       "</table>\n",
       "</div>"
      ],
      "text/plain": [
       "          Normal  High  Very high  Total\n",
       "Healthy       19   190        146    355\n",
       "Diabetes       1    34        142    177\n",
       "Total         20   224        288    532"
      ]
     },
     "execution_count": 24,
     "metadata": {},
     "output_type": "execute_result"
    }
   ],
   "source": [
    "#сделаем таблицу частот\n",
    "glucose_table = np.zeros((3, 4))\n",
    "\n",
    "glucose_table[1][:3] = grouped_by_glucose.Outcome # диабет при различном уровне сахара\n",
    "glucose_table[1][-1] = sum(glucose_table[1][:3])\n",
    "glucose_table[0][-1] = N - glucose_table[1][-1] # нет диабета\n",
    "glucose_table[0][:3] = \n",
    "    np.array(df.groupby(by='glucose_group', as_index=False).count().Outcome) - glucose_table[1][:3]\n",
    "glucose_table[2] = glucose_table[0] + glucose_table[1]\n",
    "\n",
    "glucose_df = pd.DataFrame(glucose_table, dtype=int,\n",
    "                      columns=[\"Normal\", \"High\", \"Very high\", \"Total\"], \n",
    "                      index=[\"Healthy\", \"Diabetes\", \"Total\"])\n",
    "glucose_df"
   ]
  },
  {
   "cell_type": "code",
   "execution_count": 25,
   "metadata": {},
   "outputs": [
    {
     "data": {
      "text/html": [
       "<div>\n",
       "<style scoped>\n",
       "    .dataframe tbody tr th:only-of-type {\n",
       "        vertical-align: middle;\n",
       "    }\n",
       "\n",
       "    .dataframe tbody tr th {\n",
       "        vertical-align: top;\n",
       "    }\n",
       "\n",
       "    .dataframe thead th {\n",
       "        text-align: right;\n",
       "    }\n",
       "</style>\n",
       "<table border=\"1\" class=\"dataframe\">\n",
       "  <thead>\n",
       "    <tr style=\"text-align: right;\">\n",
       "      <th></th>\n",
       "      <th>Normal</th>\n",
       "      <th>High</th>\n",
       "      <th>Very high</th>\n",
       "      <th>Total</th>\n",
       "    </tr>\n",
       "  </thead>\n",
       "  <tbody>\n",
       "    <tr>\n",
       "      <td>Healthy</td>\n",
       "      <td>0.950000</td>\n",
       "      <td>0.848214</td>\n",
       "      <td>0.506944</td>\n",
       "      <td>0.667293</td>\n",
       "    </tr>\n",
       "    <tr>\n",
       "      <td>Diabetes</td>\n",
       "      <td>0.050000</td>\n",
       "      <td>0.151786</td>\n",
       "      <td>0.493056</td>\n",
       "      <td>0.332707</td>\n",
       "    </tr>\n",
       "    <tr>\n",
       "      <td>Total</td>\n",
       "      <td>0.037594</td>\n",
       "      <td>0.421053</td>\n",
       "      <td>0.541353</td>\n",
       "      <td>1.000000</td>\n",
       "    </tr>\n",
       "  </tbody>\n",
       "</table>\n",
       "</div>"
      ],
      "text/plain": [
       "            Normal      High  Very high     Total\n",
       "Healthy   0.950000  0.848214   0.506944  0.667293\n",
       "Diabetes  0.050000  0.151786   0.493056  0.332707\n",
       "Total     0.037594  0.421053   0.541353  1.000000"
      ]
     },
     "execution_count": 25,
     "metadata": {},
     "output_type": "execute_result"
    }
   ],
   "source": [
    "# условные вероятности\n",
    "glucose_cond = np.copy(glucose_table)\n",
    "glucose_cond[0] /= glucose_cond[-1]\n",
    "glucose_cond[1] /= glucose_cond[-1]\n",
    "glucose_cond[-1] /= glucose_cond[-1][-1]\n",
    "\n",
    "glucose_cond_df = pd.DataFrame(glucose_cond, dtype=float,\n",
    "                      columns=[\"Normal\", \"High\", \"Very high\", \"Total\"], \n",
    "                      index=[\"Healthy\", \"Diabetes\", \"Total\"])\n",
    "glucose_cond_df"
   ]
  },
  {
   "cell_type": "code",
   "execution_count": 26,
   "metadata": {},
   "outputs": [
    {
     "data": {
      "text/html": [
       "<div>\n",
       "<style scoped>\n",
       "    .dataframe tbody tr th:only-of-type {\n",
       "        vertical-align: middle;\n",
       "    }\n",
       "\n",
       "    .dataframe tbody tr th {\n",
       "        vertical-align: top;\n",
       "    }\n",
       "\n",
       "    .dataframe thead th {\n",
       "        text-align: right;\n",
       "    }\n",
       "</style>\n",
       "<table border=\"1\" class=\"dataframe\">\n",
       "  <thead>\n",
       "    <tr style=\"text-align: right;\">\n",
       "      <th></th>\n",
       "      <th>Normal</th>\n",
       "      <th>High</th>\n",
       "      <th>Very high</th>\n",
       "      <th>Total</th>\n",
       "    </tr>\n",
       "  </thead>\n",
       "  <tbody>\n",
       "    <tr>\n",
       "      <td>Healthy</td>\n",
       "      <td>0.035714</td>\n",
       "      <td>0.357143</td>\n",
       "      <td>0.274436</td>\n",
       "      <td>0.667293</td>\n",
       "    </tr>\n",
       "    <tr>\n",
       "      <td>Diabetes</td>\n",
       "      <td>0.001880</td>\n",
       "      <td>0.063910</td>\n",
       "      <td>0.266917</td>\n",
       "      <td>0.332707</td>\n",
       "    </tr>\n",
       "    <tr>\n",
       "      <td>Total</td>\n",
       "      <td>0.037594</td>\n",
       "      <td>0.421053</td>\n",
       "      <td>0.541353</td>\n",
       "      <td>1.000000</td>\n",
       "    </tr>\n",
       "  </tbody>\n",
       "</table>\n",
       "</div>"
      ],
      "text/plain": [
       "            Normal      High  Very high     Total\n",
       "Healthy   0.035714  0.357143   0.274436  0.667293\n",
       "Diabetes  0.001880  0.063910   0.266917  0.332707\n",
       "Total     0.037594  0.421053   0.541353  1.000000"
      ]
     },
     "execution_count": 26,
     "metadata": {},
     "output_type": "execute_result"
    }
   ],
   "source": [
    "# обычные вероятности (количество / N)\n",
    "glucose_table /= glucose_table[-1][-1]\n",
    "\n",
    "glucose_df = pd.DataFrame(glucose_table, dtype=float,\n",
    "                      columns=[\"Normal\", \"High\", \"Very high\", \"Total\"], \n",
    "                      index=[\"Healthy\", \"Diabetes\", \"Total\"])\n",
    "glucose_df"
   ]
  },
  {
   "cell_type": "code",
   "execution_count": 27,
   "metadata": {},
   "outputs": [
    {
     "name": "stdout",
     "output_type": "stream",
     "text": [
      "0.138306 0.240603\n"
     ]
    },
    {
     "data": {
      "text/html": [
       "<div>\n",
       "<style scoped>\n",
       "    .dataframe tbody tr th:only-of-type {\n",
       "        vertical-align: middle;\n",
       "    }\n",
       "\n",
       "    .dataframe tbody tr th {\n",
       "        vertical-align: top;\n",
       "    }\n",
       "\n",
       "    .dataframe thead th {\n",
       "        text-align: right;\n",
       "    }\n",
       "</style>\n",
       "<table border=\"1\" class=\"dataframe\">\n",
       "  <thead>\n",
       "    <tr style=\"text-align: right;\">\n",
       "      <th></th>\n",
       "      <th>Normal</th>\n",
       "      <th>High</th>\n",
       "      <th>Very high</th>\n",
       "    </tr>\n",
       "  </thead>\n",
       "  <tbody>\n",
       "    <tr>\n",
       "      <td>Healthy</td>\n",
       "      <td>0.423662</td>\n",
       "      <td>0.271127</td>\n",
       "      <td>-0.240297</td>\n",
       "    </tr>\n",
       "    <tr>\n",
       "      <td>Diabetes</td>\n",
       "      <td>-0.849718</td>\n",
       "      <td>-0.543785</td>\n",
       "      <td>0.481952</td>\n",
       "    </tr>\n",
       "  </tbody>\n",
       "</table>\n",
       "</div>"
      ],
      "text/plain": [
       "            Normal      High  Very high\n",
       "Healthy   0.423662  0.271127  -0.240297\n",
       "Diabetes -0.849718 -0.543785   0.481952"
      ]
     },
     "execution_count": 27,
     "metadata": {},
     "output_type": "execute_result"
    }
   ],
   "source": [
    "# индексы Кетле и средний вклад признака\n",
    "glucose_quetlet_table = np.zeros((2, 3))\n",
    "glucose_quetlet_table[0][:3] = \\\n",
    "    glucose_table[0][:3] / (glucose_table[-1][:3] * glucose_table[0][-1]) - 1\n",
    "glucose_quetlet_table[1][:3] = \\ \n",
    "    glucose_table[1][:3] / (glucose_table[-1][:3] * glucose_table[1][-1]) - 1\n",
    "\n",
    "glucose_quetlet_mean = np.copy(glucose_quetlet_table)\n",
    "\n",
    "glucose_quetlet_mean[0][:3] *= (glucose_table[0][:3] / glucose_table[-1][-1])\n",
    "glucose_quetlet_mean[1][:3] *= (glucose_table[1][:3] / glucose_table[-1][-1])\n",
    "print(np.round(sum(glucose_quetlet_mean[0][:3]) + sum(glucose_quetlet_mean[1][:3]), decimals=6),\n",
    "      np.round(glucose_quetlet_mean[glucose_quetlet_mean > 0].sum(), decimals=6))\n",
    "\n",
    "glucose_quetlet_df = pd.DataFrame(glucose_quetlet_table, dtype=float,\n",
    "                      columns=[\"Normal\", \"High\", \"Very high\"], \n",
    "                      index=[\"Healthy\", \"Diabetes\"])\n",
    "glucose_quetlet_df"
   ]
  },
  {
   "cell_type": "code",
   "execution_count": 28,
   "metadata": {},
   "outputs": [
    {
     "name": "stdout",
     "output_type": "stream",
     "text": [
      "0.138306\n"
     ]
    },
    {
     "data": {
      "text/html": [
       "<div>\n",
       "<style scoped>\n",
       "    .dataframe tbody tr th:only-of-type {\n",
       "        vertical-align: middle;\n",
       "    }\n",
       "\n",
       "    .dataframe tbody tr th {\n",
       "        vertical-align: top;\n",
       "    }\n",
       "\n",
       "    .dataframe thead th {\n",
       "        text-align: right;\n",
       "    }\n",
       "</style>\n",
       "<table border=\"1\" class=\"dataframe\">\n",
       "  <thead>\n",
       "    <tr style=\"text-align: right;\">\n",
       "      <th></th>\n",
       "      <th>Normal</th>\n",
       "      <th>High</th>\n",
       "      <th>Very high</th>\n",
       "    </tr>\n",
       "  </thead>\n",
       "  <tbody>\n",
       "    <tr>\n",
       "      <td>Healthy</td>\n",
       "      <td>0.004503</td>\n",
       "      <td>0.020654</td>\n",
       "      <td>0.020859</td>\n",
       "    </tr>\n",
       "    <tr>\n",
       "      <td>Diabetes</td>\n",
       "      <td>0.009031</td>\n",
       "      <td>0.041424</td>\n",
       "      <td>0.041836</td>\n",
       "    </tr>\n",
       "  </tbody>\n",
       "</table>\n",
       "</div>"
      ],
      "text/plain": [
       "            Normal      High  Very high\n",
       "Healthy   0.004503  0.020654   0.020859\n",
       "Diabetes  0.009031  0.041424   0.041836"
      ]
     },
     "execution_count": 28,
     "metadata": {},
     "output_type": "execute_result"
    }
   ],
   "source": [
    "# теперь посчитаем Xi-квадрат:\n",
    "\n",
    "glucose_expected = np.zeros((2, 3))\n",
    "glucose_expected[0] = glucose_table[-1][:3] * glucose_table[0][-1]\n",
    "glucose_expected[1] = glucose_table[-1][:3] * glucose_table[1][-1]\n",
    "\n",
    "xi_square = np.zeros((2, 3))\n",
    "xi_square[0] = (glucose_table[0][:3] - glucose_expected[0]) ** 2 / glucose_expected[0]\n",
    "xi_square[1] = (glucose_table[1][:3] - glucose_expected[1]) ** 2 / glucose_expected[1]\n",
    "\n",
    "print(np.round(np.nansum(xi_square), decimals=6))\n",
    "glucose_xi_square = pd.DataFrame(xi_square, dtype=float,\n",
    "                      columns=[\"Normal\", \"High\", \"Very high\"], \n",
    "                      index=[\"Healthy\", \"Diabetes\"])\n",
    "glucose_xi_square"
   ]
  },
  {
   "cell_type": "code",
   "execution_count": 29,
   "metadata": {},
   "outputs": [
    {
     "data": {
      "image/png": "[encoded data removed]",
      "text/plain": [
       "<Figure size 640x440 with 1 Axes>"
      ]
     },
     "metadata": {},
     "output_type": "display_data"
    }
   ],
   "source": [
    "fig = plt.figure(dpi=DPI, figsize=(8, 5.5))\n",
    "data = np.array(grouped_by_bmi.Outcome / \n",
    "                (df.groupby(by=\"BMI_group\", as_index=False).count().Outcome))\n",
    "\n",
    "plt.title(\"Доля заболеваний в зависимости от весовой категории\")\n",
    "sns.barplot(x=np.arange(4), y=data)\n",
    "xlabels = [\"Underweight\", \"Healthy\", \"Overweight\", \"Obesity\"]\n",
    "plt.ylabel(\"\")\n",
    "plt.xlabel(\"\")\n",
    "plt.xticks(np.arange(4), xlabels)\n",
    "plt.show()\n",
    "fig.savefig(\"density_bmi.jpg\")"
   ]
  },
  {
   "cell_type": "code",
   "execution_count": 30,
   "metadata": {},
   "outputs": [
    {
     "data": {
      "text/html": [
       "<div>\n",
       "<style scoped>\n",
       "    .dataframe tbody tr th:only-of-type {\n",
       "        vertical-align: middle;\n",
       "    }\n",
       "\n",
       "    .dataframe tbody tr th {\n",
       "        vertical-align: top;\n",
       "    }\n",
       "\n",
       "    .dataframe thead th {\n",
       "        text-align: right;\n",
       "    }\n",
       "</style>\n",
       "<table border=\"1\" class=\"dataframe\">\n",
       "  <thead>\n",
       "    <tr style=\"text-align: right;\">\n",
       "      <th></th>\n",
       "      <th>Underweight</th>\n",
       "      <th>Healthy</th>\n",
       "      <th>Overweight</th>\n",
       "      <th>Obesity</th>\n",
       "      <th>Total</th>\n",
       "    </tr>\n",
       "  </thead>\n",
       "  <tbody>\n",
       "    <tr>\n",
       "      <td>Healthy</td>\n",
       "      <td>2</td>\n",
       "      <td>57</td>\n",
       "      <td>98</td>\n",
       "      <td>198</td>\n",
       "      <td>355</td>\n",
       "    </tr>\n",
       "    <tr>\n",
       "      <td>Diabetes</td>\n",
       "      <td>0</td>\n",
       "      <td>2</td>\n",
       "      <td>27</td>\n",
       "      <td>148</td>\n",
       "      <td>177</td>\n",
       "    </tr>\n",
       "    <tr>\n",
       "      <td>Total</td>\n",
       "      <td>2</td>\n",
       "      <td>59</td>\n",
       "      <td>125</td>\n",
       "      <td>346</td>\n",
       "      <td>532</td>\n",
       "    </tr>\n",
       "  </tbody>\n",
       "</table>\n",
       "</div>"
      ],
      "text/plain": [
       "          Underweight  Healthy  Overweight  Obesity  Total\n",
       "Healthy             2       57          98      198    355\n",
       "Diabetes            0        2          27      148    177\n",
       "Total               2       59         125      346    532"
      ]
     },
     "execution_count": 30,
     "metadata": {},
     "output_type": "execute_result"
    }
   ],
   "source": [
    "#сделаем таблицу частот\n",
    "bmi_table = np.zeros((3, 5))\n",
    "\n",
    "bmi_table[1][:4] = grouped_by_bmi.Outcome # диабет в различных возрастных категориях\n",
    "bmi_table[1][-1] = sum(bmi_table[1][:4])\n",
    "bmi_table[0][-1] = N - bmi_table[1][-1] # нет диабета\n",
    "bmi_table[0][:4] = \\ \n",
    "    np.array(df.groupby(by='BMI_group', as_index=False).count().Outcome) - bmi_table[1][:4]\n",
    "bmi_table[2] = bmi_table[0] + bmi_table[1]\n",
    "\n",
    "bmi_df = pd.DataFrame(bmi_table, dtype=int,\n",
    "                      columns=[\"Underweight\", \"Healthy\", \"Overweight\", \"Obesity\", \"Total\"], \n",
    "                      index=[\"Healthy\", \"Diabetes\", \"Total\"])\n",
    "bmi_df"
   ]
  },
  {
   "cell_type": "code",
   "execution_count": 31,
   "metadata": {},
   "outputs": [
    {
     "data": {
      "text/html": [
       "<div>\n",
       "<style scoped>\n",
       "    .dataframe tbody tr th:only-of-type {\n",
       "        vertical-align: middle;\n",
       "    }\n",
       "\n",
       "    .dataframe tbody tr th {\n",
       "        vertical-align: top;\n",
       "    }\n",
       "\n",
       "    .dataframe thead th {\n",
       "        text-align: right;\n",
       "    }\n",
       "</style>\n",
       "<table border=\"1\" class=\"dataframe\">\n",
       "  <thead>\n",
       "    <tr style=\"text-align: right;\">\n",
       "      <th></th>\n",
       "      <th>Underweight</th>\n",
       "      <th>Healthy</th>\n",
       "      <th>Overweight</th>\n",
       "      <th>Obesity</th>\n",
       "      <th>Total</th>\n",
       "    </tr>\n",
       "  </thead>\n",
       "  <tbody>\n",
       "    <tr>\n",
       "      <td>Healthy</td>\n",
       "      <td>1.000000</td>\n",
       "      <td>0.966102</td>\n",
       "      <td>0.784000</td>\n",
       "      <td>0.572254</td>\n",
       "      <td>0.667293</td>\n",
       "    </tr>\n",
       "    <tr>\n",
       "      <td>Diabetes</td>\n",
       "      <td>0.000000</td>\n",
       "      <td>0.033898</td>\n",
       "      <td>0.216000</td>\n",
       "      <td>0.427746</td>\n",
       "      <td>0.332707</td>\n",
       "    </tr>\n",
       "    <tr>\n",
       "      <td>Total</td>\n",
       "      <td>0.003759</td>\n",
       "      <td>0.110902</td>\n",
       "      <td>0.234962</td>\n",
       "      <td>0.650376</td>\n",
       "      <td>1.000000</td>\n",
       "    </tr>\n",
       "  </tbody>\n",
       "</table>\n",
       "</div>"
      ],
      "text/plain": [
       "          Underweight   Healthy  Overweight   Obesity     Total\n",
       "Healthy      1.000000  0.966102    0.784000  0.572254  0.667293\n",
       "Diabetes     0.000000  0.033898    0.216000  0.427746  0.332707\n",
       "Total        0.003759  0.110902    0.234962  0.650376  1.000000"
      ]
     },
     "execution_count": 31,
     "metadata": {},
     "output_type": "execute_result"
    }
   ],
   "source": [
    "# условные вероятности \n",
    "\n",
    "bmi_cond = np.copy(bmi_table)\n",
    "bmi_cond[0] /= bmi_cond[-1]\n",
    "bmi_cond[1] /= bmi_cond[-1]\n",
    "bmi_cond[-1] /= bmi_cond[-1][-1]\n",
    "\n",
    "bmi_cond_df = pd.DataFrame(bmi_cond, dtype=float,\n",
    "                      columns=[\"Underweight\", \"Healthy\", \"Overweight\", \"Obesity\", \"Total\"], \n",
    "                      index=[\"Healthy\", \"Diabetes\", \"Total\"])\n",
    "bmi_cond_df"
   ]
  },
  {
   "cell_type": "code",
   "execution_count": 32,
   "metadata": {},
   "outputs": [
    {
     "data": {
      "text/html": [
       "<div>\n",
       "<style scoped>\n",
       "    .dataframe tbody tr th:only-of-type {\n",
       "        vertical-align: middle;\n",
       "    }\n",
       "\n",
       "    .dataframe tbody tr th {\n",
       "        vertical-align: top;\n",
       "    }\n",
       "\n",
       "    .dataframe thead th {\n",
       "        text-align: right;\n",
       "    }\n",
       "</style>\n",
       "<table border=\"1\" class=\"dataframe\">\n",
       "  <thead>\n",
       "    <tr style=\"text-align: right;\">\n",
       "      <th></th>\n",
       "      <th>Underweight</th>\n",
       "      <th>Healthy</th>\n",
       "      <th>Overweight</th>\n",
       "      <th>Obesity</th>\n",
       "      <th>Total</th>\n",
       "    </tr>\n",
       "  </thead>\n",
       "  <tbody>\n",
       "    <tr>\n",
       "      <td>Healthy</td>\n",
       "      <td>0.003759</td>\n",
       "      <td>0.107143</td>\n",
       "      <td>0.184211</td>\n",
       "      <td>0.372180</td>\n",
       "      <td>0.667293</td>\n",
       "    </tr>\n",
       "    <tr>\n",
       "      <td>Diabetes</td>\n",
       "      <td>0.000000</td>\n",
       "      <td>0.003759</td>\n",
       "      <td>0.050752</td>\n",
       "      <td>0.278195</td>\n",
       "      <td>0.332707</td>\n",
       "    </tr>\n",
       "    <tr>\n",
       "      <td>Total</td>\n",
       "      <td>0.003759</td>\n",
       "      <td>0.110902</td>\n",
       "      <td>0.234962</td>\n",
       "      <td>0.650376</td>\n",
       "      <td>1.000000</td>\n",
       "    </tr>\n",
       "  </tbody>\n",
       "</table>\n",
       "</div>"
      ],
      "text/plain": [
       "          Underweight   Healthy  Overweight   Obesity     Total\n",
       "Healthy      0.003759  0.107143    0.184211  0.372180  0.667293\n",
       "Diabetes     0.000000  0.003759    0.050752  0.278195  0.332707\n",
       "Total        0.003759  0.110902    0.234962  0.650376  1.000000"
      ]
     },
     "execution_count": 32,
     "metadata": {},
     "output_type": "execute_result"
    }
   ],
   "source": [
    "# таблица вероятностей (количество / N)\n",
    "bmi_table /= bmi_table[-1][-1]\n",
    "bmi_df = pd.DataFrame(bmi_table, dtype=float,\n",
    "                      columns=[\"Underweight\", \"Healthy\", \"Overweight\", \"Obesity\", \"Total\"], \n",
    "                      index=[\"Healthy\", \"Diabetes\", \"Total\"])\n",
    "bmi_df"
   ]
  },
  {
   "cell_type": "code",
   "execution_count": 33,
   "metadata": {},
   "outputs": [
    {
     "name": "stdout",
     "output_type": "stream",
     "text": [
      "0.087351 0.161537\n"
     ]
    },
    {
     "data": {
      "text/html": [
       "<div>\n",
       "<style scoped>\n",
       "    .dataframe tbody tr th:only-of-type {\n",
       "        vertical-align: middle;\n",
       "    }\n",
       "\n",
       "    .dataframe tbody tr th {\n",
       "        vertical-align: top;\n",
       "    }\n",
       "\n",
       "    .dataframe thead th {\n",
       "        text-align: right;\n",
       "    }\n",
       "</style>\n",
       "<table border=\"1\" class=\"dataframe\">\n",
       "  <thead>\n",
       "    <tr style=\"text-align: right;\">\n",
       "      <th></th>\n",
       "      <th>Underweight</th>\n",
       "      <th>Healthy</th>\n",
       "      <th>Overweight</th>\n",
       "      <th>Obesity</th>\n",
       "    </tr>\n",
       "  </thead>\n",
       "  <tbody>\n",
       "    <tr>\n",
       "      <td>Healthy</td>\n",
       "      <td>0.498592</td>\n",
       "      <td>0.447792</td>\n",
       "      <td>0.174896</td>\n",
       "      <td>-0.142424</td>\n",
       "    </tr>\n",
       "    <tr>\n",
       "      <td>Diabetes</td>\n",
       "      <td>-1.000000</td>\n",
       "      <td>-0.898114</td>\n",
       "      <td>-0.350780</td>\n",
       "      <td>0.285654</td>\n",
       "    </tr>\n",
       "  </tbody>\n",
       "</table>\n",
       "</div>"
      ],
      "text/plain": [
       "          Underweight   Healthy  Overweight   Obesity\n",
       "Healthy      0.498592  0.447792    0.174896 -0.142424\n",
       "Diabetes    -1.000000 -0.898114   -0.350780  0.285654"
      ]
     },
     "execution_count": 33,
     "metadata": {},
     "output_type": "execute_result"
    }
   ],
   "source": [
    "# теперь посчитаем индекс Кетле для веса\n",
    "bmi_quetlet = np.zeros((2, 4))\n",
    "bmi_quetlet[0] = bmi_table[0][:4] / (bmi_table[0][-1] * bmi_table[-1][:4]) - 1\n",
    "bmi_quetlet[1] = bmi_table[1][:4] / (bmi_table[1][-1] * bmi_table[-1][:4]) - 1\n",
    "\n",
    "# и средний вклад признака\n",
    "bmi_quetlet_mean = np.copy(bmi_quetlet)\n",
    "bmi_quetlet_mean[0] *= (bmi_table[0][:4] / bmi_table[-1][-1])\n",
    "bmi_quetlet_mean[1] *= (bmi_table[1][:4] / bmi_table[-1][-1])\n",
    "print(np.round(sum(bmi_quetlet_mean[0]) + sum(bmi_quetlet_mean[1]), decimals=6),\n",
    "      np.round(bmi_quetlet_mean[bmi_quetlet_mean > 0].sum(), decimals=6))\n",
    "\n",
    "bmi_quetlet_df = pd.DataFrame(bmi_quetlet,\n",
    "                      columns=[\"Underweight\", \"Healthy\", \"Overweight\", \"Obesity\"], \n",
    "                      index=[\"Healthy\", \"Diabetes\"])\n",
    "\n",
    "bmi_quetlet_df"
   ]
  },
  {
   "cell_type": "code",
   "execution_count": 34,
   "metadata": {},
   "outputs": [
    {
     "name": "stdout",
     "output_type": "stream",
     "text": [
      "0.087351\n"
     ]
    },
    {
     "data": {
      "text/html": [
       "<div>\n",
       "<style scoped>\n",
       "    .dataframe tbody tr th:only-of-type {\n",
       "        vertical-align: middle;\n",
       "    }\n",
       "\n",
       "    .dataframe tbody tr th {\n",
       "        vertical-align: top;\n",
       "    }\n",
       "\n",
       "    .dataframe thead th {\n",
       "        text-align: right;\n",
       "    }\n",
       "</style>\n",
       "<table border=\"1\" class=\"dataframe\">\n",
       "  <thead>\n",
       "    <tr style=\"text-align: right;\">\n",
       "      <th></th>\n",
       "      <th>Underweight</th>\n",
       "      <th>Healthy</th>\n",
       "      <th>Overweight</th>\n",
       "      <th>Obesity</th>\n",
       "    </tr>\n",
       "  </thead>\n",
       "  <tbody>\n",
       "    <tr>\n",
       "      <td>Healthy</td>\n",
       "      <td>0.000624</td>\n",
       "      <td>0.014839</td>\n",
       "      <td>0.004796</td>\n",
       "      <td>0.008803</td>\n",
       "    </tr>\n",
       "    <tr>\n",
       "      <td>Diabetes</td>\n",
       "      <td>0.001251</td>\n",
       "      <td>0.029762</td>\n",
       "      <td>0.009619</td>\n",
       "      <td>0.017657</td>\n",
       "    </tr>\n",
       "  </tbody>\n",
       "</table>\n",
       "</div>"
      ],
      "text/plain": [
       "          Underweight   Healthy  Overweight   Obesity\n",
       "Healthy      0.000624  0.014839    0.004796  0.008803\n",
       "Diabetes     0.001251  0.029762    0.009619  0.017657"
      ]
     },
     "execution_count": 34,
     "metadata": {},
     "output_type": "execute_result"
    }
   ],
   "source": [
    "# а здесь посчитаем xi-квадрат через ожидаемое кол-во наблюдений в предположении нулевой корреляции\n",
    "\n",
    "bmi_expected = np.zeros((2, 4))\n",
    "bmi_expected[0] = bmi_table[-1][:4] * bmi_table[0][-1]\n",
    "bmi_expected[1] = bmi_table[-1][:4] * bmi_table[1][-1]\n",
    "\n",
    "xi_square = np.zeros((2, 4))\n",
    "xi_square[0] = (bmi_table[0][:4] - bmi_expected[0]) ** 2 / bmi_expected[0]\n",
    "xi_square[1] = (bmi_table[1][:4] - bmi_expected[1]) ** 2 / bmi_expected[1]\n",
    "print(np.round(np.nansum(xi_square), decimals=6))\n",
    "\n",
    "bmi_xi_square = pd.DataFrame(xi_square,\n",
    "                      columns=[\"Underweight\", \"Healthy\", \"Overweight\", \"Obesity\"], \n",
    "                      index=[\"Healthy\", \"Diabetes\"])\n",
    "bmi_xi_square"
   ]
  },
  {
   "cell_type": "markdown",
   "metadata": {},
   "source": [
    "Часть 5: для визуализации с помощью метода главных компонент выберем следующие признаки - уровень глюкозы в крови, давление, толщину кожной складки и ИМТ."
   ]
  },
  {
   "cell_type": "code",
   "execution_count": 35,
   "metadata": {
    "collapsed": true
   },
   "outputs": [],
   "source": [
    "need_features = ['Glucose', 'BloodPressure', 'SkinThickness', 'BMI']\n",
    "centered_df = pd.DataFrame()\n",
    "\n",
    "for feature in need_features: # нормализация размахом\n",
    "    mean_f, max_f, min_f = df[feature].mean(), df[feature].max(), df[feature].min()\n",
    "    centered_df[feature] = (df[feature] - mean_f) / (max_f - min_f)\n",
    "\n",
    "target = df.Outcome.to_numpy()\n",
    "Y = centered_df.to_numpy()"
   ]
  },
  {
   "cell_type": "code",
   "execution_count": 37,
   "metadata": {},
   "outputs": [
    {
     "name": "stdout",
     "output_type": "stream",
     "text": [
      "Собственные значения: [0.05328103 0.02565309 0.01597671 0.00545817]\n"
     ]
    },
    {
     "data": {
      "image/png": "[encoded data removed]",
      "text/plain": [
       "<Figure size 1200x560 with 2 Axes>"
      ]
     },
     "metadata": {},
     "output_type": "display_data"
    }
   ],
   "source": [
    "color = ['xkcd:cherry red' if target[i] == 1 else 'xkcd:ultramarine' \n",
    "         for i in range(len(centered_df))]\n",
    "\n",
    "# 1: обыкновенный\n",
    "from numpy.linalg import svd\n",
    "\n",
    "U, S, VT = svd(Y, full_matrices=False)\n",
    "x, y = U.dot(np.diag(S))[:,0], U.dot(np.diag(S))[:,1]\n",
    "\n",
    "# 2: традиционный\n",
    "from numpy.linalg import eig\n",
    "\n",
    "B = np.cov(Y.T) # матрица ковариации\n",
    "lambda_val, vectors = eig(B)\n",
    "print(\"Собственные значения:\", lambda_val) # уже в нужном порядке\n",
    "first_vector = np.array(vectors[:,0], dtype='float')\n",
    "first_component = Y.dot(first_vector)\n",
    "second_vector = np.array(vectors[:,1], dtype='float')\n",
    "second_component = Y.dot(second_vector)\n",
    "\n",
    "fig = plt.figure(dpi=DPI, figsize=(15, 7))\n",
    "plt.subplot(1, 2, 1)\n",
    "plt.title(\"Визуализация с помощью обычного МГК\")\n",
    "plt.scatter(x, y, c=color)\n",
    "\n",
    "plt.subplot(1, 2, 2)\n",
    "plt.title(\"Визуализация с помощью традиционного МГК\")\n",
    "plt.scatter(first_component, second_component, c=color)\n",
    "\n",
    "plt.show()\n",
    "fig.savefig(\"both_svd.jpg\")"
   ]
  },
  {
   "cell_type": "markdown",
   "metadata": {},
   "source": [
    "Полученные изображения одинаковы с точностью до знака одной из компонент."
   ]
  },
  {
   "cell_type": "markdown",
   "metadata": {
    "collapsed": true
   },
   "source": [
    "Часть 6: линейная регрессия"
   ]
  },
  {
   "cell_type": "markdown",
   "metadata": {},
   "source": [
    "В качестве двух численных признаков возьмем BMI и SkinThickness, относительно линейно зависящих друг от друга."
   ]
  },
  {
   "cell_type": "code",
   "execution_count": 38,
   "metadata": {
    "scrolled": false
   },
   "outputs": [
    {
     "data": {
      "image/png": "[encoded data removed]",
      "text/plain": [
       "<Figure size 560x560 with 1 Axes>"
      ]
     },
     "metadata": {},
     "output_type": "display_data"
    }
   ],
   "source": [
    "first_feature, second_feature = 'BMI', 'SkinThickness'\n",
    "\n",
    "fig = plt.figure(dpi=DPI, figsize=(7, 7))\n",
    "plt.title(f'Correlation between {first_feature} and {second_feature}')\n",
    "plt.scatter(df[first_feature], df[second_feature], color=\"xkcd:plum purple\")\n",
    "fig.savefig(\"scatterplot_features.jpg\")\n",
    "plt.show()"
   ]
  },
  {
   "cell_type": "code",
   "execution_count": 39,
   "metadata": {
    "scrolled": true
   },
   "outputs": [],
   "source": [
    "from sklearn.linear_model import LinearRegression\n",
    "\n",
    "train = df[(df[second_feature] < 60) & (df[second_feature] > 10) \n",
    "           & (df[first_feature] < 50) & (df[first_feature] > 20)]\n",
    "\n",
    "need_features_index = np.where(df.columns == first_feature)\n",
    "linear_model = LinearRegression().fit(train.iloc[:,need_features_index[0]], train[second_feature])"
   ]
  },
  {
   "cell_type": "code",
   "execution_count": 40,
   "metadata": {},
   "outputs": [
    {
     "name": "stdout",
     "output_type": "stream",
     "text": [
      "k = 0.9952386813919191 , b = -3.402710787275762\n"
     ]
    },
    {
     "data": {
      "image/png": "[encoded data removed]",
      "text/plain": [
       "<Figure size 560x560 with 1 Axes>"
      ]
     },
     "metadata": {},
     "output_type": "display_data"
    }
   ],
   "source": [
    "print(\"k =\", linear_model.coef_[0], \", b =\", linear_model.intercept_)\n",
    "\n",
    "x = np.arange(20, 60)\n",
    "fig = plt.figure(dpi=DPI, figsize=(7, 7))\n",
    "plt.title(f'Correlation between {first_feature} and {second_feature}')\n",
    "plt.xlabel('BMI')\n",
    "plt.ylabel('Skin thickness')\n",
    "plt.plot(x, x * linear_model.coef_[0] + linear_model.intercept_, color='xkcd:gold')\n",
    "plt.scatter(df[first_feature], df[second_feature], color=\"xkcd:plum purple\")\n",
    "fig.savefig(\"linear_regression.jpg\")\n",
    "plt.show()"
   ]
  },
  {
   "cell_type": "code",
   "execution_count": 41,
   "metadata": {},
   "outputs": [
    {
     "name": "stdout",
     "output_type": "stream",
     "text": [
      "R^2 = 0.413626\n",
      "r = 0.643138\n"
     ]
    }
   ],
   "source": [
    "from sklearn.metrics import r2_score\n",
    "cov = np.corrcoef(train[second_feature], \n",
    "                  linear_model.predict(train.iloc[:,need_features_index[0]]))\n",
    "print(\"R^2 = %.6f\" % r2_score(train[second_feature], \n",
    "                              linear_model.predict(train.iloc[:,need_features_index[0]])))\n",
    "print(\"r = %.6f\" % cov[0][1])"
   ]
  },
  {
   "cell_type": "code",
   "execution_count": null,
   "metadata": {
    "collapsed": true
   },
   "outputs": [],
   "source": []
  }
 ],
 "metadata": {
  "kernelspec": {
   "display_name": "Python 3",
   "language": "python",
   "name": "python3"
  },
  "language_info": {
   "codemirror_mode": {
    "name": "ipython",
    "version": 3
   },
   "file_extension": ".py",
   "mimetype": "text/x-python",
   "name": "python",
   "nbconvert_exporter": "python",
   "pygments_lexer": "ipython3",
   "version": "3.6.7"
  }
 },
 "nbformat": 4,
 "nbformat_minor": 2
}
